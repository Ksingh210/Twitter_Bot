{
 "cells": [
  {
   "cell_type": "code",
   "execution_count": null,
   "metadata": {},
   "outputs": [],
   "source": [
    "import tweepy\n",
    "import time"
   ]
  },
  {
   "cell_type": "code",
   "execution_count": null,
   "metadata": {},
   "outputs": [],
   "source": [
    "CONSUMER_KEY = 'VUKe39PwQFK1wWcoW1DZFV8ZZ'\n",
    "CONSUMER_SECRET = 'QD0kWszi0UxQmCnDZuEkS4ULGl67WpXutpEKitduoDsj0F4L63'\n",
    "ACCESS_KEY = '2882926680-D07S1ygVgeJMt82lXhu5Br5jtokV8T1JUK48QWq'\n",
    "ACCESS_SECRET = 'F2lDTaQEaULWztW1MtGnxhVHFOPb1yNPmHYPNIHzUb9zn'\n",
    "\n",
    "auth = tweepy.OAuthHandler(CONSUMER_KEY, CONSUMER_SECRET)\n",
    "auth.set_access_token(ACCESS_KEY, ACCESS_SECRET)\n",
    "\n",
    "api = tweepy.API(auth)"
   ]
  },
  {
   "cell_type": "code",
   "execution_count": null,
   "metadata": {},
   "outputs": [],
   "source": [
    "file_name = 'last_seen_id.txt'\n",
    "\n",
    "def retrieve_last_seen_id(file_name):\n",
    "    f_read = open(file_name, 'r')\n",
    "    last_seen_id = int(f_read.read().strip())\n",
    "    f_read.close()\n",
    "    return last_seen_id\n",
    "\n",
    "def store_last_seen_id(last_seen_id, file_name):\n",
    "    f_write = open(file_name, 'w')\n",
    "    f_write.write(str(last_seen_id))\n",
    "    f_write.close()\n",
    "    return\n",
    "\n",
    "def reply_to_tweets():\n",
    "    print('retrieving and replying to tweets...', flush=True)\n",
    "    # DEV NOTE: use 1109647746896678912 for testing.\n",
    "    last_seen_id = retrieve_last_seen_id(file_name)\n",
    "    mentions = api.mentions_timeline(\n",
    "                        last_seen_id,\n",
    "                        tweet_mode='extended')\n",
    "    for mention in reversed(mentions):\n",
    "        print(str(mention.id) + ' - ' + mention.full_text, flush=True)\n",
    "        last_seen_id = mention.id\n",
    "        store_last_seen_id(last_seen_id, file_name)\n",
    "        if 'hey' in mention.full_text.lower():\n",
    "            print('responding back...')\n",
    "            api.update_status('@' + mention.user.screen_name +\n",
    "                    ' Hello, how are you?', mention.id)"
   ]
  },
  {
   "cell_type": "code",
   "execution_count": null,
   "metadata": {},
   "outputs": [],
   "source": [
    "while True:\n",
    "    reply_to_tweets()\n",
    "    time.sleep(15)"
   ]
  },
  {
   "cell_type": "code",
   "execution_count": null,
   "metadata": {},
   "outputs": [],
   "source": []
  }
 ],
 "metadata": {
  "kernelspec": {
   "display_name": "Python 3",
   "language": "python",
   "name": "python3"
  },
  "language_info": {
   "codemirror_mode": {
    "name": "ipython",
    "version": 3
   },
   "file_extension": ".py",
   "mimetype": "text/x-python",
   "name": "python",
   "nbconvert_exporter": "python",
   "pygments_lexer": "ipython3",
   "version": "3.7.1"
  }
 },
 "nbformat": 4,
 "nbformat_minor": 2
}
